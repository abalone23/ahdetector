{
 "cells": [
  {
   "cell_type": "code",
   "execution_count": 1,
   "metadata": {},
   "outputs": [],
   "source": [
    "import re\n",
    "import praw\n",
    "import json\n",
    "import os\n",
    "import pprint\n",
    "from datetime import datetime\n",
    "import pickle\n",
    "from pymongo import MongoClient"
   ]
  },
  {
   "cell_type": "code",
   "execution_count": 2,
   "metadata": {},
   "outputs": [],
   "source": [
    "client = MongoClient()\n",
    "db = client.ahd\n",
    "# db.posts.drop()"
   ]
  },
  {
   "cell_type": "code",
   "execution_count": 3,
   "metadata": {},
   "outputs": [],
   "source": [
    "# Get all json files in data directory and insert into mongo\n",
    "path_to_json = 'data/'\n",
    "json_files = [pos_json for pos_json in os.listdir(path_to_json) if pos_json.endswith('.json')]"
   ]
  },
  {
   "cell_type": "code",
   "execution_count": 8,
   "metadata": {},
   "outputs": [],
   "source": [
    "# Insert into MongoDB:\n",
    "for json_file in json_files:\n",
    "    with open(f'data/{json_file}', 'r') as f:\n",
    "        posts_list = json.load(f)\n",
    "        result = db.posts.insert_many(posts_list)"
   ]
  },
  {
   "cell_type": "code",
   "execution_count": 9,
   "metadata": {},
   "outputs": [
    {
     "data": {
      "text/plain": [
       "77581"
      ]
     },
     "execution_count": 9,
     "metadata": {},
     "output_type": "execute_result"
    }
   ],
   "source": [
    "db.posts.estimated_document_count()"
   ]
  },
  {
   "cell_type": "code",
   "execution_count": 10,
   "metadata": {},
   "outputs": [
    {
     "data": {
      "text/plain": [
       "[{'_id': ObjectId('5d5c612bce18c4dde081c067'),\n",
       "  'post_id': '5lhwun',\n",
       "  'post_title': 'AITA for being frustrated at my friend for not being able to finish a hike.',\n",
       "  'post_timestamp': 1483313372,\n",
       "  'post_permalink': '/r/AmItheAsshole/comments/5lhwun/aita_for_being_frustrated_at_my_friend_for_not/',\n",
       "  'post_score': 61,\n",
       "  'post_num_comments': 18,\n",
       "  'post_question': \"I feel like a total asshole. Me and my friend planned 3 months ago to go on a 9 day hike. We hike together fairly often but this was our first one in a while. So last hike (a year ago almost) my friend struggled with foot pain which she said she got every hike. She struggled on the last hike and I told her she needed to go to a physio or podiatrist because she probably needed insoles. So fast forward to this hike, she suggested it, I put no pressure on her and I sunk about 700 dollars into the trip. 4 days in her feet are really hurting and she says she can't go on so we cut it short and she also felt she was struggling fitness wise. I feel bad that she's in pain but I'm just frustrated that 1) she didn't bother to do anything about this recurring issue and 2) she did absolutely no training whatsoever to prepare herself. And she kept complaining about how I was going too fast and that she felt inferior because of her fitness. The thing is I also have recurring issues and I've gone to the physio trying to correct it. I just feel like she let me down and I wouldn't be upset if it was a new injury etc but the fact that she's had this issue before and didn't do anything about it upsets me. I've tried to get her going on some practice hikes and walks but she always turned me down. So am I the asshole?\",\n",
       "  'top_comment_id': 'dbvtcj4',\n",
       "  'top_comment_score': 59,\n",
       "  'top_comment': \"For having feelings? Hell no. Now, if you've demanded that she pay up for the difference.. or stopped talking to her completely.. that'd be assholic. I can see why you'd feel frustrated. There's probably more to the situation, but.. frustration is understandable.\",\n",
       "  'post_result': 'NTA'}]"
      ]
     },
     "execution_count": 10,
     "metadata": {},
     "output_type": "execute_result"
    }
   ],
   "source": [
    "# Check one document:\n",
    "list(db.posts.find().limit(1))\n",
    "# list(db.posts.find().limit(10))"
   ]
  },
  {
   "cell_type": "code",
   "execution_count": 11,
   "metadata": {},
   "outputs": [
    {
     "data": {
      "text/plain": [
       "[]"
      ]
     },
     "execution_count": 11,
     "metadata": {},
     "output_type": "execute_result"
    }
   ],
   "source": [
    "# count duplicates:\n",
    "list(db.posts.aggregate([\n",
    "  {\n",
    "    '$group': {\n",
    "      '_id': \"$post_id\",\n",
    "      'count': {\n",
    "        '$sum': 1\n",
    "      }\n",
    "    }\n",
    "  },\n",
    "  {\n",
    "    '$match': {\n",
    "      'count': {\n",
    "        '$gt': 1\n",
    "      }\n",
    "    }\n",
    "  },\n",
    "  {\n",
    "    '$count': \"count\"\n",
    "  }\n",
    "]))"
   ]
  },
  {
   "cell_type": "code",
   "execution_count": null,
   "metadata": {},
   "outputs": [],
   "source": []
  }
 ],
 "metadata": {
  "kernelspec": {
   "display_name": "metis",
   "language": "python",
   "name": "metis"
  },
  "language_info": {
   "codemirror_mode": {
    "name": "ipython",
    "version": 3
   },
   "file_extension": ".py",
   "mimetype": "text/x-python",
   "name": "python",
   "nbconvert_exporter": "python",
   "pygments_lexer": "ipython3",
   "version": "3.7.3"
  }
 },
 "nbformat": 4,
 "nbformat_minor": 4
}
